{
 "cells": [
  {
   "cell_type": "code",
   "execution_count": 1,
   "metadata": {},
   "outputs": [],
   "source": [
    "from abc import ABC,abstractmethod\n",
    "class ShareBehavior(ABC):\n",
    "    '''interface class'''\n",
    "    @abstractmethod\n",
    "    def share():\n",
    "        pass"
   ]
  },
  {
   "cell_type": "code",
   "execution_count": 2,
   "metadata": {},
   "outputs": [],
   "source": [
    "class Text(ShareBehavior):\n",
    "    def share(self):\n",
    "        print(\"share by Text\")"
   ]
  },
  {
   "cell_type": "code",
   "execution_count": 3,
   "metadata": {},
   "outputs": [],
   "source": [
    "class Email(ShareBehavior):\n",
    "    def share(self):\n",
    "        print(\"share by Email\")"
   ]
  },
  {
   "cell_type": "code",
   "execution_count": 4,
   "metadata": {},
   "outputs": [],
   "source": [
    "class Social(ShareBehavior):\n",
    "    def share(self):\n",
    "        print(\"share by Social\")"
   ]
  },
  {
   "cell_type": "code",
   "execution_count": 5,
   "metadata": {},
   "outputs": [],
   "source": [
    "from abc import ABC,abstractmethod\n",
    "class PhoneCameraAPP(ABC):\n",
    "    def getShareBehavior(self)->ShareBehavior:\n",
    "        return self.shareBehavior\n",
    "    def setShareBehavior(self,shareBehavior:ShareBehavior)->None:\n",
    "        self.shareBehavior=shareBehavior\n",
    "        \n",
    "    @abstractmethod\n",
    "    def edit():\n",
    "        pass\n",
    "    \n",
    "    def performShare(self):\n",
    "        self.getShareBehavior().share()\n",
    "    \n",
    "    def take(self):\n",
    "        print(\"Picture taken\")\n",
    "        \n",
    "    def save(self):\n",
    "        print(\"Picture Saved\")\n"
   ]
  },
  {
   "cell_type": "code",
   "execution_count": 6,
   "metadata": {},
   "outputs": [],
   "source": [
    "class CameraPlusApp(PhoneCameraAPP):\n",
    "    \n",
    "    def __init__(self):\n",
    "        self.setShareBehavior(Social())\n",
    "    \n",
    "    def edit(self):\n",
    "        print(\"CameraPlusApp App edit\")"
   ]
  },
  {
   "cell_type": "code",
   "execution_count": 7,
   "metadata": {},
   "outputs": [],
   "source": [
    "class BasicCameraApp(PhoneCameraAPP):\n",
    "    def __init__(self):\n",
    "        self.setShareBehavior(Text())\n",
    "    \n",
    "    def edit(self):\n",
    "        print(\"BasicCameraApp App edit\")"
   ]
  },
  {
   "cell_type": "code",
   "execution_count": 8,
   "metadata": {},
   "outputs": [],
   "source": [
    "cameraPlusApp = CameraPlusApp()\n",
    "basicCameraApp = BasicCameraApp()"
   ]
  },
  {
   "cell_type": "code",
   "execution_count": 9,
   "metadata": {},
   "outputs": [
    {
     "name": "stdout",
     "output_type": "stream",
     "text": [
      "Picture taken\n",
      "CameraPlusApp App edit\n",
      "Picture Saved\n",
      "share by Social\n",
      "share by Email\n"
     ]
    }
   ],
   "source": [
    "cameraPlusApp.take()\n",
    "cameraPlusApp.edit()\n",
    "cameraPlusApp.save()\n",
    "cameraPlusApp.performShare()\n",
    "cameraPlusApp.setShareBehavior(Email())\n",
    "cameraPlusApp.performShare()"
   ]
  },
  {
   "cell_type": "code",
   "execution_count": 10,
   "metadata": {},
   "outputs": [
    {
     "name": "stdout",
     "output_type": "stream",
     "text": [
      "Picture taken\n",
      "BasicCameraApp App edit\n",
      "Picture Saved\n",
      "share by Text\n",
      "share by Email\n"
     ]
    }
   ],
   "source": [
    "basicCameraApp.take()\n",
    "basicCameraApp.edit()\n",
    "basicCameraApp.save()\n",
    "basicCameraApp.performShare()\n",
    "basicCameraApp.setShareBehavior(Email())\n",
    "basicCameraApp.performShare()"
   ]
  },
  {
   "cell_type": "code",
   "execution_count": null,
   "metadata": {},
   "outputs": [],
   "source": []
  },
  {
   "cell_type": "code",
   "execution_count": null,
   "metadata": {},
   "outputs": [],
   "source": []
  },
  {
   "cell_type": "code",
   "execution_count": null,
   "metadata": {},
   "outputs": [],
   "source": []
  },
  {
   "cell_type": "code",
   "execution_count": null,
   "metadata": {},
   "outputs": [],
   "source": []
  }
 ],
 "metadata": {
  "kernelspec": {
   "display_name": "Python 3",
   "language": "python",
   "name": "python3"
  },
  "language_info": {
   "codemirror_mode": {
    "name": "ipython",
    "version": 3
   },
   "file_extension": ".py",
   "mimetype": "text/x-python",
   "name": "python",
   "nbconvert_exporter": "python",
   "pygments_lexer": "ipython3",
   "version": "3.7.6"
  }
 },
 "nbformat": 4,
 "nbformat_minor": 4
}
