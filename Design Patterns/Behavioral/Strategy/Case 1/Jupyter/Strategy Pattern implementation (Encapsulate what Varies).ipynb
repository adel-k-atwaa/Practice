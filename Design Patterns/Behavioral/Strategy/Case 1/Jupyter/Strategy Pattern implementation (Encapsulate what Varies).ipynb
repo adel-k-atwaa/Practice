{
 "cells": [
  {
   "cell_type": "code",
   "execution_count": 30,
   "metadata": {},
   "outputs": [],
   "source": [
    "from abc import ABC,abstractmethod\n",
    "class FlyBehavior(ABC):\n",
    "    \n",
    "    @abstractmethod\n",
    "    def fly():\n",
    "        pass"
   ]
  },
  {
   "cell_type": "code",
   "execution_count": 47,
   "metadata": {},
   "outputs": [],
   "source": [
    "class FlyWithWings(FlyBehavior):\n",
    "    def fly(self):\n",
    "        print(\"Flying Flying\")"
   ]
  },
  {
   "cell_type": "code",
   "execution_count": 48,
   "metadata": {},
   "outputs": [],
   "source": [
    "class NoFly(FlyBehavior):\n",
    "    def fly(self):\n",
    "        print(\"Can\\'t Fly\")"
   ]
  },
  {
   "cell_type": "code",
   "execution_count": 49,
   "metadata": {},
   "outputs": [],
   "source": [
    "from abc import ABC,abstractmethod\n",
    "class QuackBehavior(ABC):\n",
    "    \n",
    "    @abstractmethod\n",
    "    def quak():\n",
    "        pass"
   ]
  },
  {
   "cell_type": "code",
   "execution_count": 50,
   "metadata": {},
   "outputs": [],
   "source": [
    "class Mute(QuackBehavior):\n",
    "    \n",
    "    def quak(self):\n",
    "        print(\"No Quaking\")"
   ]
  },
  {
   "cell_type": "code",
   "execution_count": 51,
   "metadata": {},
   "outputs": [],
   "source": [
    "class Quak(QuackBehavior):\n",
    "       \n",
    "    def quak(self):\n",
    "        print(\"Quaking Quaking\")"
   ]
  },
  {
   "cell_type": "code",
   "execution_count": 52,
   "metadata": {},
   "outputs": [],
   "source": [
    "class Squeak(QuackBehavior):\n",
    "        \n",
    "    def quak(self):\n",
    "        print(\"Squeak Squeak\")"
   ]
  },
  {
   "cell_type": "code",
   "execution_count": 53,
   "metadata": {},
   "outputs": [],
   "source": [
    "from abc import ABC,abstractmethod,abstractproperty\n",
    "class DuckInterFace(ABC):\n",
    "    @abstractmethod\n",
    "    def dispay():\n",
    "        pass\n",
    "\n",
    "    @abstractmethod\n",
    "    def swim():\n",
    "        pass"
   ]
  },
  {
   "cell_type": "code",
   "execution_count": 54,
   "metadata": {},
   "outputs": [],
   "source": [
    "class Duck(DuckInterFace):\n",
    "    \n",
    "    def __init__(self) -> None:\n",
    "        self.__flyBehavior:FlyBehavior=None\n",
    "        self.__quakBehavior:QuackBehavior= None\n",
    "    \n",
    "    def setQuakBehavior(self,quak:QuackBehavior):\n",
    "        self.__quakBehavior=quak\n",
    "\n",
    "    def setFlyBehavior(self,fly:FlyBehavior):\n",
    "        self.__flyBehavior=fly\n",
    "    \n",
    "    def getFlyBehavior(self)->FlyBehavior:\n",
    "        return self.__flyBehavior\n",
    "    \n",
    "    def getQuakBehavior(self)->QuackBehavior:\n",
    "        return self.__quakBehavior\n",
    "\n",
    "    def dispay(self):\n",
    "        pass\n",
    "\n",
    "    def swim(self):\n",
    "        pass"
   ]
  },
  {
   "cell_type": "code",
   "execution_count": 55,
   "metadata": {},
   "outputs": [],
   "source": [
    "class DecoyDuck(Duck,FlyBehavior,QuackBehavior):\n",
    "\n",
    "    def __init__(self) -> None:\n",
    "        Duck.__init__(self)\n",
    "        self.setFlyBehavior(NoFly())\n",
    "        self.setQuakBehavior(Mute())\n",
    "    \n",
    "    def fly(self):\n",
    "        self.getFlyBehavior().fly()\n",
    "\n",
    "    def quak(self):\n",
    "        self.getQuakBehavior().quak()\n",
    "\n",
    "    def dispay():\n",
    "        pass\n",
    "\n",
    "    def swim():\n",
    "        pass"
   ]
  },
  {
   "cell_type": "code",
   "execution_count": 60,
   "metadata": {},
   "outputs": [],
   "source": [
    "class MallardDuck(Duck,FlyBehavior,QuackBehavior):\n",
    "\n",
    "    def __init__(self) -> None:\n",
    "        Duck.__init__(self)\n",
    "        self.setFlyBehavior(FlyWithWings())\n",
    "        self.setQuakBehavior(Quak())\n",
    "    \n",
    "    def fly(self):\n",
    "        self.getFlyBehavior().fly()\n",
    "\n",
    "    def quak(self):\n",
    "        self.getQuakBehavior().quak()\n",
    "\n",
    "    def dispay():\n",
    "        pass\n",
    "\n",
    "    def swim():\n",
    "        pass"
   ]
  },
  {
   "cell_type": "code",
   "execution_count": 65,
   "metadata": {},
   "outputs": [],
   "source": [
    "class RedHeadDuck(Duck,FlyBehavior,QuackBehavior):\n",
    "\n",
    "    def __init__(self) -> None:\n",
    "        Duck.__init__(self)\n",
    "        self.setFlyBehavior(FlyWithWings())\n",
    "        self.setQuakBehavior(Quak())\n",
    "    \n",
    "    def fly(self):\n",
    "        self.getFlyBehavior().fly()\n",
    "\n",
    "    def quak(self):\n",
    "        self.getQuakBehavior().quak()\n",
    "\n",
    "    def dispay():\n",
    "        pass\n",
    "\n",
    "    def swim():\n",
    "        pass"
   ]
  },
  {
   "cell_type": "code",
   "execution_count": 66,
   "metadata": {},
   "outputs": [],
   "source": [
    "class RubberDuck(Duck,FlyBehavior,QuackBehavior):\n",
    "\n",
    "    def __init__(self) -> None:\n",
    "        Duck.__init__(self)\n",
    "        self.setFlyBehavior(NoFly())\n",
    "        self.setQuakBehavior(Squeak())\n",
    "    \n",
    "    def fly(self):\n",
    "        self.getFlyBehavior().fly()\n",
    "\n",
    "    def quak(self):\n",
    "        self.getQuakBehavior().quak()\n",
    "\n",
    "    def dispay():\n",
    "        pass\n",
    "\n",
    "    def swim():\n",
    "        pass"
   ]
  },
  {
   "cell_type": "code",
   "execution_count": 71,
   "metadata": {},
   "outputs": [],
   "source": [
    "decoy_duck = DecoyDuck()\n",
    "red_head_duck = RedHeadDuck()\n",
    "rubber_duck = RubberDuck()"
   ]
  },
  {
   "cell_type": "code",
   "execution_count": 72,
   "metadata": {},
   "outputs": [
    {
     "name": "stdout",
     "output_type": "stream",
     "text": [
      "Can't Fly\n"
     ]
    }
   ],
   "source": [
    "decoy_duck.fly()"
   ]
  },
  {
   "cell_type": "code",
   "execution_count": 73,
   "metadata": {},
   "outputs": [
    {
     "name": "stdout",
     "output_type": "stream",
     "text": [
      "No Quaking\n"
     ]
    }
   ],
   "source": [
    "decoy_duck.quak()"
   ]
  },
  {
   "cell_type": "code",
   "execution_count": 74,
   "metadata": {},
   "outputs": [],
   "source": [
    "decoy_duck.setFlyBehavior(FlyWithWings())"
   ]
  },
  {
   "cell_type": "code",
   "execution_count": 75,
   "metadata": {},
   "outputs": [
    {
     "name": "stdout",
     "output_type": "stream",
     "text": [
      "Flying Flying\n"
     ]
    }
   ],
   "source": [
    "decoy_duck.fly()"
   ]
  },
  {
   "cell_type": "code",
   "execution_count": 76,
   "metadata": {},
   "outputs": [
    {
     "name": "stdout",
     "output_type": "stream",
     "text": [
      "Flying Flying\n"
     ]
    }
   ],
   "source": [
    "red_head_duck.fly()"
   ]
  },
  {
   "cell_type": "code",
   "execution_count": 77,
   "metadata": {},
   "outputs": [
    {
     "name": "stdout",
     "output_type": "stream",
     "text": [
      "Can't Fly\n"
     ]
    }
   ],
   "source": [
    "rubber_duck.fly()"
   ]
  },
  {
   "cell_type": "code",
   "execution_count": 78,
   "metadata": {},
   "outputs": [
    {
     "name": "stdout",
     "output_type": "stream",
     "text": [
      "Quaking Quaking\n"
     ]
    }
   ],
   "source": [
    "red_head_duck.quak()"
   ]
  },
  {
   "cell_type": "code",
   "execution_count": 79,
   "metadata": {},
   "outputs": [
    {
     "name": "stdout",
     "output_type": "stream",
     "text": [
      "Squeak Squeak\n"
     ]
    }
   ],
   "source": [
    "rubber_duck.quak()"
   ]
  },
  {
   "cell_type": "code",
   "execution_count": null,
   "metadata": {},
   "outputs": [],
   "source": []
  }
 ],
 "metadata": {
  "kernelspec": {
   "display_name": "Python 3",
   "language": "python",
   "name": "python3"
  },
  "language_info": {
   "codemirror_mode": {
    "name": "ipython",
    "version": 3
   },
   "file_extension": ".py",
   "mimetype": "text/x-python",
   "name": "python",
   "nbconvert_exporter": "python",
   "pygments_lexer": "ipython3",
   "version": "3.7.6"
  }
 },
 "nbformat": 4,
 "nbformat_minor": 4
}
